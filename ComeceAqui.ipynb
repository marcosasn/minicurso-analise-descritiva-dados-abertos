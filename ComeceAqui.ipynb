{
  "nbformat": 4,
  "nbformat_minor": 0,
  "metadata": {
    "colab": {
      "name": "ComeceAqui.ipynb",
      "version": "0.3.2",
      "provenance": [],
      "collapsed_sections": [],
      "include_colab_link": true
    },
    "kernelspec": {
      "display_name": "Python 3",
      "language": "python",
      "name": "python3"
    }
  },
  "cells": [
    {
      "cell_type": "markdown",
      "metadata": {
        "id": "view-in-github",
        "colab_type": "text"
      },
      "source": [
        "[View in Colaboratory](https://colab.research.google.com/github/hadrizia/minicurso-analise-descritiva-dados-abertos/blob/master/ComeceAqui.ipynb)"
      ]
    },
    {
      "metadata": {
        "id": "oh9ydNrKjkLf",
        "colab_type": "text"
      },
      "cell_type": "markdown",
      "source": [
        "# Análise Descritiva de Dados Públicos com Python - SACC 2018\n",
        "\n",
        "Este notebook tem como objetivo aplicar o conhecimento adquirido no minicurso de Análise de Dados Públicos com Python, utilizando a biblioteca Pandas para a manipulação dos dados. \n",
        "\n",
        "## 1. O que é Pandas?"
      ]
    },
    {
      "metadata": {
        "id": "BYwwU0eLjkLs",
        "colab_type": "text"
      },
      "cell_type": "markdown",
      "source": [
        "Biblioteca voltada para computação cinetífica que provê alta performace e facilidade para trabalhar com dados estruturados.\n",
        "Seus principais tipos de dados são `Series` (Array indexado de uma dimensão) e `DataFrame` (Arrays indexados de duas dimensões)"
      ]
    },
    {
      "metadata": {
        "id": "CKchYw0fjkLm",
        "colab_type": "code",
        "colab": {}
      },
      "cell_type": "code",
      "source": [
        "import pandas as pd"
      ],
      "execution_count": 0,
      "outputs": []
    },
    {
      "metadata": {
        "id": "dnAKb1x0jkLt",
        "colab_type": "code",
        "colab": {}
      },
      "cell_type": "code",
      "source": [
        "exemplo_serie = {'b' : 1, 'a' : 0, 'c' : 2}\n",
        "pd.Series(exemplo_serie)"
      ],
      "execution_count": 0,
      "outputs": []
    },
    {
      "metadata": {
        "id": "AlQ8zU0fjkLz",
        "colab_type": "code",
        "colab": {}
      },
      "cell_type": "code",
      "source": [
        "exemplo_df = {'col1': [3, 4, 5], 'col2': [3.2, 51., 7.], 'col3': ['texto', 'também', 'pode']}\n",
        "pd.DataFrame(exemplo_df)"
      ],
      "execution_count": 0,
      "outputs": []
    },
    {
      "metadata": {
        "id": "G9TD2U6njkL3",
        "colab_type": "text"
      },
      "cell_type": "markdown",
      "source": [
        "Links interessantes para estudar e tirar dúvidas: \n",
        "- [Cooknook](http://pandas.pydata.org/pandas-docs/stable/cookbook.html)\n",
        "- [10 minutos com Pandas](http://pandas.pydata.org/pandas-docs/stable/10min.html)\n",
        "- [Documentação](http://pandas.pydata.org/pandas-docs/stable/index.html)"
      ]
    },
    {
      "metadata": {
        "id": "xOZkQkG6jkL4",
        "colab_type": "code",
        "colab": {}
      },
      "cell_type": "code",
      "source": [
        ""
      ],
      "execution_count": 0,
      "outputs": []
    },
    {
      "metadata": {
        "id": "6SV1cuKGmdlM",
        "colab_type": "text"
      },
      "cell_type": "markdown",
      "source": [
        "## 2. Contextualização e Descrição dos Dados\n",
        "  \n",
        "  Existe algum assunto mais discutido que eleição (Com exceção da suporta sextape do Doria)? A maior parte das notícias atualmente giram em torno dos presidenciáveis, mas pouco se fala sobre os nossos representantes do Congresso Nacional, os deputados federais e senadores, componentes tão importantes quanto o presidente, pois são eles que criam e votam nos projetos de lei. \n",
        "  \n",
        "  ### Parte 1 - Quem e como são os candidatos eleitos na Câmara e no Senado?\n",
        "  \n",
        "  Um fato interessante sobre os congressitas dessas eleições é que a taxa de renovação do Senado atingiu 85%, a maior renovação de sua história ([Fonte](https://www12.senado.leg.br/noticias/materias/2018/10/08/eleicoes-senado-tem-a-maior-renovacao-da-sua-historia)). O que nos leva a questionar se essa renovação de fato aconteceu ou seja, se os candidatos são mais diversos ou se possuem as mesmas caracteristicas dos senadores anteriores por exemplo.  Podemos extender essas e outras perguntas possíveis paraa a Câmara do Deputados, como a taxa de renovação e se divesidadade aumentou ou diminuiu. \n",
        " \n",
        "   Para reponder  a estas questões, utilizaremos os dados provenientes do [TSE](http://tse.jus.br/eleicoes/estatisticas/repositorio-de-dados-eleitorais-1/repositorio-de-dados-eleitorais), que já foram bem tratados e estão bonitinhos [aqui](https://raw.githubusercontent.com/pyladiespb-org/minicurso-analise-descritiva-dados-abertos/master/data/congressistas-eleitos/eleicoes_2014_e_2018.csv). É importante se familiarizar com os dados que estão nesse dataset. São eles:\n",
        "   * ano: O ano da eleição. Nestes dados pode ser 2014 ou 2018;\n",
        "   * sq_candidato: ID do candidato;\n",
        "   * nome_candidato: Nome do candidato;\n",
        "   * descricao_cargo: O cargo podem ser Senador ou Deputado Federal;\n",
        "   * sigla_partido: A sigla do partido do candidato;\n",
        "   * desc_sit_cand_tot: A situação final do candidato;\n",
        "   * sigla_uf: Estado do candidato;\n",
        "   * total_votos: Quantidade total de votos que o candidato teve;\n",
        "   * sexo: Sexo do candidato;\n",
        "   * estado_civil: Estado civil do candidato;\n",
        "   * grau_instrucao: Escolaridade do candidato;\n",
        "   * descricao_ocupacao: A ocupação do candidato;\n",
        "   * cor_raca: Cor do candidato;\n",
        "   * data_nascimento: Data de nascimento do candidato;\n",
        "   * descricao_nacionalidade: A nascionalidade do candidato.\n",
        "  \n",
        "### Parte 2 - Tá, mas e o quanto eles nos representam?\n",
        "  \n",
        "  Depois de conhecer o perfil destes congressistas, a pergunta que não quer calar é: o quanto esses candidatos são representativos para os brasileiros? Afinal de contas, representatividade importa sim! Para responder a esta pergunta, utilizaremos os dados do levantamento do IBGE de 2010 pego da [Sidra](https://sidra.ibge.gov.br/tabela/3175). Eles estão distribuídos da seguinte forma:\n",
        " * Unidade da Federação: Estado da população;\n",
        " * Sexo: Sexo da população;\n",
        " * Idade: Faixa Etária da população;\n",
        " * Ano: Ano do levantamento;\n",
        " * Cor ou raça: Cor ou raça da população;\n",
        " * Situação do domicílio: Se reside na Zona Rural ou Urbana.\n",
        "  \n",
        " ## 3. Tô prontx, bora começar!\n",
        " \n",
        " Agora você irá praticar algumas manipulações nos dados, como filtragem, agrupamento, sumarização, etc. Começaremos pela filtragem por ser a manipulação mais simples. Mas antes disso, importamos as bibliotecas e os dados necessários para a análise:\n",
        " \n",
        " ### Observando os dados com Pandas"
      ]
    },
    {
      "metadata": {
        "id": "ViSUwFqwrKyK",
        "colab_type": "code",
        "colab": {}
      },
      "cell_type": "code",
      "source": [
        "import io\n",
        "import requests\n",
        "\n",
        "url_dados_congresso = \"https://raw.githubusercontent.com/hadrizia/minicurso-analise-descritiva-dados-abertos/master/data/congressistas-eleitos/eleicoes_2014_e_2018.csv\"\n",
        "s = requests.get(url_dados_congresso).content\n",
        "dados_congresso = pd.read_csv(io.StringIO(s.decode('utf-8')), delimiter=',')\n",
        "\n",
        "url_dados_ibge = 'https://raw.githubusercontent.com/pyladiespb-org/minicurso-analise-descritiva-dados-abertos/master/data/populacao/populacao_idade_agregada.csv'\n",
        "dados_url = requests.get(url_dados_ibge).content\n",
        "dados_ibge = pd.read_csv(io.StringIO(dados_url.decode('utf-8')), delimiter=';', header=2)\n"
      ],
      "execution_count": 0,
      "outputs": []
    },
    {
      "metadata": {
        "id": "PaNzV7H4sU_2",
        "colab_type": "text"
      },
      "cell_type": "markdown",
      "source": [
        "#### Dados do Congresso"
      ]
    },
    {
      "metadata": {
        "id": "9Os7gGogsQ2g",
        "colab_type": "code",
        "colab": {}
      },
      "cell_type": "code",
      "source": [
        "dados_congresso.head()"
      ],
      "execution_count": 0,
      "outputs": []
    },
    {
      "metadata": {
        "id": "NyVUr3NrsT4p",
        "colab_type": "text"
      },
      "cell_type": "markdown",
      "source": [
        "#### Dados da População"
      ]
    },
    {
      "metadata": {
        "id": "q36FsV2TsbY8",
        "colab_type": "code",
        "colab": {}
      },
      "cell_type": "code",
      "source": [
        "dados_ibge.head()"
      ],
      "execution_count": 0,
      "outputs": []
    },
    {
      "metadata": {
        "id": "ZktHehnWsZy8",
        "colab_type": "text"
      },
      "cell_type": "markdown",
      "source": [
        ""
      ]
    },
    {
      "metadata": {
        "id": "HbcU1amSs06d",
        "colab_type": "text"
      },
      "cell_type": "markdown",
      "source": [
        "### 3.1. Filtrando os dados\n",
        "#### 3.1.1. Cadê os pardos e negros?\n",
        " Você deverá filtrar os dados do Congresso para exibir somente os candidatos com cor_racao igual a parda ou preta, independente do cargo e do ano da eleição. Terminou? Agora faz o mesmo para os dados do IBGE.\n"
      ]
    },
    {
      "metadata": {
        "id": "s_9Ir_j5t-H4",
        "colab_type": "code",
        "colab": {}
      },
      "cell_type": "code",
      "source": [
        "# Sua Resposta"
      ],
      "execution_count": 0,
      "outputs": []
    },
    {
      "metadata": {
        "id": "JFbOrrRprLKP",
        "colab_type": "text"
      },
      "cell_type": "markdown",
      "source": [
        "#### 3.1.2. E as mulheres?\n",
        " Você deverá filtrar os dados do IBGE para exibir somentes as mulheres. Depois disso, fazer o mesmo com os dados do Congresso, independente do cargo e do ano da eleição. Terminou? Então filtra as mulheres de raça parda ou preta, dos dois datasets.\n"
      ]
    },
    {
      "metadata": {
        "id": "Ku6teClTnxEG",
        "colab_type": "code",
        "colab": {}
      },
      "cell_type": "code",
      "source": [
        "# Sua Resposta"
      ],
      "execution_count": 0,
      "outputs": []
    },
    {
      "metadata": {
        "id": "JqgKPc_AulL1",
        "colab_type": "text"
      },
      "cell_type": "markdown",
      "source": [
        "### 3.2. Agrupando e Sumarizando os Dados\n",
        "#### 3.2.1. Distribuição de homens e mulheres por grau de escolaridade no Congresso\n",
        "Você deverá agrupar os dados do Congresso e contar o número de homens e de mulheres e o grau de escolaridade e ordene o resultado em ordem decrescente de quantidade. Depois disso, faça o mesmo extendendo o grupo para cor_raca e ano também. O que você notou?"
      ]
    },
    {
      "metadata": {
        "id": "Dh2e-gxowg7Z",
        "colab_type": "code",
        "colab": {}
      },
      "cell_type": "code",
      "source": [
        "# Sua resposta"
      ],
      "execution_count": 0,
      "outputs": []
    },
    {
      "metadata": {
        "id": "LUuQoJwb3TgV",
        "colab_type": "text"
      },
      "cell_type": "markdown",
      "source": [
        "## **Gabarito**\n",
        "\n",
        "Questão 3.1.1."
      ]
    },
    {
      "metadata": {
        "id": "82oSER4m3fHn",
        "colab_type": "code",
        "colab": {}
      },
      "cell_type": "code",
      "source": [
        "congresso_pardos_negros = dados_congresso.loc[(dados_congresso['cor_raca'] == 'PRETA') | (dados_congresso['cor_raca'] == 'PARDA')]"
      ],
      "execution_count": 0,
      "outputs": []
    },
    {
      "metadata": {
        "id": "ooCSslLt5GrX",
        "colab_type": "code",
        "colab": {}
      },
      "cell_type": "code",
      "source": [
        "ibge_pardos_negros = dados_ibge.loc[(dados_ibge['Cor ou raça'] == 'Parda') | (dados_ibge['Cor ou raça'] == 'Preta')]"
      ],
      "execution_count": 0,
      "outputs": []
    },
    {
      "metadata": {
        "id": "Ojp1Fgqc5cGZ",
        "colab_type": "text"
      },
      "cell_type": "markdown",
      "source": [
        "Questão 3.1.2."
      ]
    },
    {
      "metadata": {
        "id": "C63sXu865fq3",
        "colab_type": "code",
        "colab": {}
      },
      "cell_type": "code",
      "source": [
        "ibge_pardos_negros.loc[ibge_pardos_negros['Sexo'] == 'Mulheres']"
      ],
      "execution_count": 0,
      "outputs": []
    },
    {
      "metadata": {
        "id": "Rm9DY7Kl53Qb",
        "colab_type": "code",
        "colab": {}
      },
      "cell_type": "code",
      "source": [
        "congresso_pardos_negros.loc[congresso_pardos_negros['sexo'] == 'FEMININO']"
      ],
      "execution_count": 0,
      "outputs": []
    },
    {
      "metadata": {
        "id": "ghuLV-bg6A8p",
        "colab_type": "text"
      },
      "cell_type": "markdown",
      "source": [
        "Questão 3.2.1."
      ]
    },
    {
      "metadata": {
        "id": "zQPtQACF6E97",
        "colab_type": "code",
        "colab": {}
      },
      "cell_type": "code",
      "source": [
        "dados_congresso.groupby(['sexo', 'grau_instrucao']).size().reset_index(name = 'quantidade').sort_values('quantidade', ascending = False)"
      ],
      "execution_count": 0,
      "outputs": []
    },
    {
      "metadata": {
        "id": "3ymDYQo56av8",
        "colab_type": "code",
        "colab": {}
      },
      "cell_type": "code",
      "source": [
        "dados_congresso.groupby(['sexo', 'grau_instrucao', 'cor_raca', 'ano']).size().reset_index(name = 'quantidade').sort_values('quantidade', ascending = False)"
      ],
      "execution_count": 0,
      "outputs": []
    }
  ]
}
=======
 "cells": [
  {
   "cell_type": "markdown",
   "metadata": {},
   "source": [
    "# Sobre Pandas"
   ]
  },
  {
   "cell_type": "code",
   "execution_count": 1,
   "metadata": {
    "collapsed": true
   },
   "outputs": [],
   "source": [
    "import pandas as pd"
   ]
  },
  {
   "cell_type": "markdown",
   "metadata": {},
   "source": [
    "Biblioteca voltada para computação cinetífica que provê alta performace e facilidade para trabalhar com dados estruturados.\n",
    "Seus principais tipos de dados são `Series` (Array indexado de uma dimensão) e `DataFrame` (Arrays indexados de duas dimensões)"
   ]
  },
  {
   "cell_type": "code",
   "execution_count": 4,
   "metadata": {},
   "outputs": [
    {
     "data": {
      "text/plain": [
       "a    0\n",
       "b    1\n",
       "c    2\n",
       "dtype: int64"
      ]
     },
     "execution_count": 4,
     "metadata": {},
     "output_type": "execute_result"
    }
   ],
   "source": [
    "exemplo_serie = {'b' : 1, 'a' : 0, 'c' : 2}\n",
    "pd.Series(exemplo_serie)"
   ]
  },
  {
   "cell_type": "code",
   "execution_count": 5,
   "metadata": {},
   "outputs": [
    {
     "data": {
      "text/html": [
       "<div>\n",
       "<style>\n",
       "    .dataframe thead tr:only-child th {\n",
       "        text-align: right;\n",
       "    }\n",
       "\n",
       "    .dataframe thead th {\n",
       "        text-align: left;\n",
       "    }\n",
       "\n",
       "    .dataframe tbody tr th {\n",
       "        vertical-align: top;\n",
       "    }\n",
       "</style>\n",
       "<table border=\"1\" class=\"dataframe\">\n",
       "  <thead>\n",
       "    <tr style=\"text-align: right;\">\n",
       "      <th></th>\n",
       "      <th>col1</th>\n",
       "      <th>col2</th>\n",
       "      <th>col3</th>\n",
       "    </tr>\n",
       "  </thead>\n",
       "  <tbody>\n",
       "    <tr>\n",
       "      <th>0</th>\n",
       "      <td>3</td>\n",
       "      <td>3.2</td>\n",
       "      <td>texto</td>\n",
       "    </tr>\n",
       "    <tr>\n",
       "      <th>1</th>\n",
       "      <td>4</td>\n",
       "      <td>51.0</td>\n",
       "      <td>também</td>\n",
       "    </tr>\n",
       "    <tr>\n",
       "      <th>2</th>\n",
       "      <td>5</td>\n",
       "      <td>7.0</td>\n",
       "      <td>pode</td>\n",
       "    </tr>\n",
       "  </tbody>\n",
       "</table>\n",
       "</div>"
      ],
      "text/plain": [
       "   col1  col2    col3\n",
       "0     3   3.2   texto\n",
       "1     4  51.0  também\n",
       "2     5   7.0    pode"
      ]
     },
     "execution_count": 5,
     "metadata": {},
     "output_type": "execute_result"
    }
   ],
   "source": [
    "exemplo_df = {'col1': [3, 4, 5], 'col2': [3.2, 51., 7.], 'col3': ['texto', 'também', 'pode']}\n",
    "pd.DataFrame(exemplo_df)"
   ]
  },
  {
   "cell_type": "markdown",
   "metadata": {},
   "source": [
    "Links interessantes para estudar e tirar dúvidas: \n",
    "- [Cooknook](http://pandas.pydata.org/pandas-docs/stable/cookbook.html)\n",
    "- [10 minutos com Pandas](http://pandas.pydata.org/pandas-docs/stable/10min.html)\n",
    "- [Documentação](http://pandas.pydata.org/pandas-docs/stable/index.html)"
   ]
  },
  {
   "cell_type": "code",
   "execution_count": null,
   "metadata": {
    "collapsed": true
   },
   "outputs": [],
   "source": []
  }
 ],
 "metadata": {
  "kernelspec": {
   "display_name": "Python 3",
   "language": "python",
   "name": "python3"
  },
  "language_info": {
   "codemirror_mode": {
    "name": "ipython",
    "version": 3
   },
   "file_extension": ".py",
   "mimetype": "text/x-python",
   "name": "python",
   "nbconvert_exporter": "python",
   "pygments_lexer": "ipython3",
   "version": "3.6.3"
  }
 },
 "nbformat": 4,
 "nbformat_minor": 2
}

